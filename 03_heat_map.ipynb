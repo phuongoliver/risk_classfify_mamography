{
 "cells": [
  {
   "cell_type": "code",
   "execution_count": null,
   "id": "f3ce03c6",
   "metadata": {},
   "outputs": [],
   "source": [
    "import os\n",
    "import numpy as np\n",
    "import torch\n",
    "from PIL import Image\n",
    "import cv2\n",
    "from tqdm import tqdm\n",
    "from transformers import SwinModel, AutoImageProcessor\n",
    "import matplotlib.pyplot as plt"
   ]
  },
  {
   "cell_type": "code",
   "execution_count": null,
   "id": "8b83e9cd",
   "metadata": {},
   "outputs": [],
   "source": [
    "def extract_attention_map(model, img_pil, image_processor, device):\n",
    "    input_tensor = image_processor(images=img_pil, return_tensors=\"pt\").pixel_values.to(device)\n",
    "    outputs = model(input_tensor, output_attentions=True)\n",
    "    attn = outputs.attentions[-1].mean(dim=1).squeeze().cpu().detach().numpy()\n",
    "    attn = (attn - attn.min()) / (attn.max() - attn.min() + 1e-5)\n",
    "    attn_resized = cv2.resize(attn, img_pil.size)\n",
    "    heatmap = cv2.applyColorMap(np.uint8(255 * attn_resized), cv2.COLORMAP_JET)\n",
    "    overlay = np.array(img_pil) * 0.5 + heatmap * 0.5\n",
    "    return np.uint8(np.clip(overlay, 0, 255))"
   ]
  },
  {
   "cell_type": "code",
   "execution_count": null,
   "id": "19f470a2",
   "metadata": {},
   "outputs": [],
   "source": [
    "device = torch.device(\"cuda\" if torch.cuda.is_available() else \"cpu\")\n",
    "model = SwinModel.from_pretrained(\"microsoft/swin-tiny-patch4-window7-224\").to(device)\n",
    "processor = AutoImageProcessor.from_pretrained(\"microsoft/swin-tiny-patch4-window7-224\")\n",
    "model.eval()\n",
    "\n",
    "def run_visualization(input_dir, output_dir):\n",
    "    os.makedirs(output_dir, exist_ok=True)\n",
    "    image_list = sorted([f for f in os.listdir(input_dir) if f.lower().endswith((\".png\", \".jpg\", \".jpeg\"))])\n",
    "\n",
    "    device = torch.device(\"cuda\" if torch.cuda.is_available() else \"cpu\")\n",
    "    model = SwinModel.from_pretrained(\"microsoft/swin-tiny-patch4-window7-224\").to(device)\n",
    "    processor = AutoImageProcessor.from_pretrained(\"microsoft/swin-tiny-patch4-window7-224\")\n",
    "    model.eval()\n",
    "\n",
    "    for fname in tqdm(image_list):\n",
    "        try:\n",
    "            img_path = os.path.join(input_dir, fname)\n",
    "            img_pil = Image.open(img_path).convert(\"RGB\")\n",
    "\n",
    "            overlay = extract_attention_map(model, img_pil, processor, device)\n",
    "            out_path = os.path.join(output_dir, f\"{os.path.splitext(fname)[0]}.png\")\n",
    "            Image.fromarray(overlay).save(out_path)\n",
    "        except Exception as e:\n",
    "            print(f\"❌ Error with {fname}: {e}\")"
   ]
  },
  {
   "cell_type": "code",
   "execution_count": null,
   "id": "ad68d42a",
   "metadata": {},
   "outputs": [],
   "source": [
    "run_visualization(\"/raw/cropped_image_all\", \"/visualizations\")"
   ]
  }
 ],
 "metadata": {
  "language_info": {
   "name": "python"
  }
 },
 "nbformat": 4,
 "nbformat_minor": 5
}
